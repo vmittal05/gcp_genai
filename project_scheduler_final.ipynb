{
  "cells": [
    {
      "cell_type": "code",
      "id": "qkgiRETXeRlm9bI35j5fAiBs",
      "metadata": {
        "tags": [],
        "id": "qkgiRETXeRlm9bI35j5fAiBs",
        "colab": {
          "base_uri": "https://localhost:8080/"
        },
        "executionInfo": {
          "status": "ok",
          "timestamp": 1709004439468,
          "user_tz": -330,
          "elapsed": 8144,
          "user": {
            "displayName": "",
            "userId": ""
          }
        },
        "outputId": "4a6bab75-16d1-4260-b6d3-628e4621b02e"
      },
      "source": [
        "!pip install --upgrade --user google-cloud-aiplatform google-cloud-storage 'google-cloud-bigquery[pandas]'"
      ],
      "execution_count": null,
      "outputs": [
        {
          "output_type": "stream",
          "name": "stdout",
          "text": [
            "Requirement already satisfied: google-cloud-aiplatform in /root/.local/lib/python3.10/site-packages (1.42.1)\n",
            "Requirement already satisfied: google-cloud-storage in /root/.local/lib/python3.10/site-packages (2.14.0)\n",
            "Requirement already satisfied: google-cloud-bigquery[pandas] in /root/.local/lib/python3.10/site-packages (3.17.2)\n",
            "Requirement already satisfied: google-api-core[grpc]!=2.0.*,!=2.1.*,!=2.2.*,!=2.3.*,!=2.4.*,!=2.5.*,!=2.6.*,!=2.7.*,<3.0.0dev,>=1.34.1 in /usr/local/lib/python3.10/dist-packages (from google-cloud-aiplatform) (2.11.1)\n",
            "Requirement already satisfied: google-auth<3.0.0dev,>=2.14.1 in /usr/local/lib/python3.10/dist-packages (from google-cloud-aiplatform) (2.27.0)\n",
            "Requirement already satisfied: proto-plus<2.0.0dev,>=1.22.0 in /usr/local/lib/python3.10/dist-packages (from google-cloud-aiplatform) (1.23.0)\n",
            "Requirement already satisfied: protobuf!=3.20.0,!=3.20.1,!=4.21.0,!=4.21.1,!=4.21.2,!=4.21.3,!=4.21.4,!=4.21.5,<5.0.0dev,>=3.19.5 in /usr/local/lib/python3.10/dist-packages (from google-cloud-aiplatform) (3.20.3)\n",
            "Requirement already satisfied: packaging>=14.3 in /usr/local/lib/python3.10/dist-packages (from google-cloud-aiplatform) (23.2)\n",
            "Requirement already satisfied: google-cloud-resource-manager<3.0.0dev,>=1.3.3 in /usr/local/lib/python3.10/dist-packages (from google-cloud-aiplatform) (1.12.1)\n",
            "Requirement already satisfied: shapely<3.0.0dev in /usr/local/lib/python3.10/dist-packages (from google-cloud-aiplatform) (2.0.2)\n",
            "Requirement already satisfied: google-cloud-core<3.0dev,>=2.3.0 in /usr/local/lib/python3.10/dist-packages (from google-cloud-storage) (2.3.3)\n",
            "Requirement already satisfied: google-resumable-media>=2.6.0 in /usr/local/lib/python3.10/dist-packages (from google-cloud-storage) (2.7.0)\n",
            "Requirement already satisfied: requests<3.0.0dev,>=2.18.0 in /usr/local/lib/python3.10/dist-packages (from google-cloud-storage) (2.31.0)\n",
            "Requirement already satisfied: google-crc32c<2.0dev,>=1.0 in /usr/local/lib/python3.10/dist-packages (from google-cloud-storage) (1.5.0)\n",
            "Requirement already satisfied: python-dateutil<3.0dev,>=2.7.2 in /usr/local/lib/python3.10/dist-packages (from google-cloud-bigquery[pandas]) (2.8.2)\n",
            "Requirement already satisfied: pandas>=1.1.0 in /usr/local/lib/python3.10/dist-packages (from google-cloud-bigquery[pandas]) (1.5.3)\n",
            "Requirement already satisfied: pyarrow>=3.0.0 in /usr/local/lib/python3.10/dist-packages (from google-cloud-bigquery[pandas]) (10.0.1)\n",
            "Requirement already satisfied: db-dtypes<2.0.0dev,>=0.3.0 in /usr/local/lib/python3.10/dist-packages (from google-cloud-bigquery[pandas]) (1.2.0)\n",
            "Requirement already satisfied: numpy>=1.16.6 in /usr/local/lib/python3.10/dist-packages (from db-dtypes<2.0.0dev,>=0.3.0->google-cloud-bigquery[pandas]) (1.25.2)\n",
            "Requirement already satisfied: googleapis-common-protos<2.0.dev0,>=1.56.2 in /usr/local/lib/python3.10/dist-packages (from google-api-core[grpc]!=2.0.*,!=2.1.*,!=2.2.*,!=2.3.*,!=2.4.*,!=2.5.*,!=2.6.*,!=2.7.*,<3.0.0dev,>=1.34.1->google-cloud-aiplatform) (1.62.0)\n",
            "Requirement already satisfied: grpcio<2.0dev,>=1.33.2 in /usr/local/lib/python3.10/dist-packages (from google-api-core[grpc]!=2.0.*,!=2.1.*,!=2.2.*,!=2.3.*,!=2.4.*,!=2.5.*,!=2.6.*,!=2.7.*,<3.0.0dev,>=1.34.1->google-cloud-aiplatform) (1.51.3)\n",
            "Requirement already satisfied: grpcio-status<2.0.dev0,>=1.33.2 in /usr/local/lib/python3.10/dist-packages (from google-api-core[grpc]!=2.0.*,!=2.1.*,!=2.2.*,!=2.3.*,!=2.4.*,!=2.5.*,!=2.6.*,!=2.7.*,<3.0.0dev,>=1.34.1->google-cloud-aiplatform) (1.48.2)\n",
            "Requirement already satisfied: cachetools<6.0,>=2.0.0 in /usr/local/lib/python3.10/dist-packages (from google-auth<3.0.0dev,>=2.14.1->google-cloud-aiplatform) (5.3.2)\n",
            "Requirement already satisfied: pyasn1-modules>=0.2.1 in /usr/local/lib/python3.10/dist-packages (from google-auth<3.0.0dev,>=2.14.1->google-cloud-aiplatform) (0.3.0)\n",
            "Requirement already satisfied: rsa<5,>=3.1.4 in /usr/local/lib/python3.10/dist-packages (from google-auth<3.0.0dev,>=2.14.1->google-cloud-aiplatform) (4.9)\n",
            "Requirement already satisfied: grpc-google-iam-v1<1.0.0dev,>=0.12.4 in /usr/local/lib/python3.10/dist-packages (from google-cloud-resource-manager<3.0.0dev,>=1.3.3->google-cloud-aiplatform) (0.13.0)\n",
            "Requirement already satisfied: pytz>=2020.1 in /usr/local/lib/python3.10/dist-packages (from pandas>=1.1.0->google-cloud-bigquery[pandas]) (2023.4)\n",
            "Requirement already satisfied: six>=1.5 in /usr/local/lib/python3.10/dist-packages (from python-dateutil<3.0dev,>=2.7.2->google-cloud-bigquery[pandas]) (1.16.0)\n",
            "Requirement already satisfied: charset-normalizer<4,>=2 in /usr/local/lib/python3.10/dist-packages (from requests<3.0.0dev,>=2.18.0->google-cloud-storage) (3.3.2)\n",
            "Requirement already satisfied: idna<4,>=2.5 in /usr/local/lib/python3.10/dist-packages (from requests<3.0.0dev,>=2.18.0->google-cloud-storage) (3.6)\n",
            "Requirement already satisfied: urllib3<3,>=1.21.1 in /usr/local/lib/python3.10/dist-packages (from requests<3.0.0dev,>=2.18.0->google-cloud-storage) (2.0.7)\n",
            "Requirement already satisfied: certifi>=2017.4.17 in /usr/local/lib/python3.10/dist-packages (from requests<3.0.0dev,>=2.18.0->google-cloud-storage) (2024.2.2)\n",
            "Requirement already satisfied: pyasn1<0.6.0,>=0.4.6 in /usr/local/lib/python3.10/dist-packages (from pyasn1-modules>=0.2.1->google-auth<3.0.0dev,>=2.14.1->google-cloud-aiplatform) (0.5.1)\n"
          ]
        }
      ]
    },
    {
      "cell_type": "code",
      "source": [
        "# Restart kernel after installs so that your environment can access the new packages\n",
        "import IPython\n",
        "import time\n",
        "\n",
        "app = IPython.Application.instance()\n",
        "app.kernel.do_shutdown(True)"
      ],
      "metadata": {
        "id": "neTGFrr_vpGM",
        "colab": {
          "base_uri": "https://localhost:8080/"
        },
        "executionInfo": {
          "status": "ok",
          "timestamp": 1709228624156,
          "user_tz": -330,
          "elapsed": 16,
          "user": {
            "displayName": "",
            "userId": ""
          }
        },
        "outputId": "a271834f-5103-45eb-eae9-3ad03bac348b"
      },
      "id": "neTGFrr_vpGM",
      "execution_count": null,
      "outputs": [
        {
          "output_type": "execute_result",
          "data": {
            "text/plain": [
              "{'status': 'ok', 'restart': True}"
            ]
          },
          "metadata": {},
          "execution_count": 1
        }
      ]
    },
    {
      "cell_type": "code",
      "source": [
        "# get project ID\n",
        "PROJECT_ID = ! gcloud config get project\n",
        "PROJECT_ID = PROJECT_ID[0]\n",
        "LOCATION = \"us-central1\"\n",
        "if PROJECT_ID == \"(unset)\":\n",
        "    print(f\"Please set the project ID manually below\")"
      ],
      "metadata": {
        "id": "vgu1pIeovswU",
        "executionInfo": {
          "status": "ok",
          "timestamp": 1709374232579,
          "user_tz": -330,
          "elapsed": 1195,
          "user": {
            "displayName": "",
            "userId": ""
          }
        }
      },
      "id": "vgu1pIeovswU",
      "execution_count": 1,
      "outputs": []
    },
    {
      "cell_type": "code",
      "source": [
        "# define project information\n",
        "if PROJECT_ID == \"(unset)\":\n",
        "    PROJECT_ID = \"dark-caldron-414803\"  # @param {type:\"string\"}\n",
        "\n",
        "# generate an unique id for this session\n",
        "from datetime import datetime\n",
        "\n",
        "UID = datetime.now().strftime(\"%m%d%H%M\")"
      ],
      "metadata": {
        "id": "mriYSQeQvvLb",
        "executionInfo": {
          "status": "ok",
          "timestamp": 1709374236347,
          "user_tz": -330,
          "elapsed": 200,
          "user": {
            "displayName": "",
            "userId": ""
          }
        }
      },
      "id": "mriYSQeQvvLb",
      "execution_count": 2,
      "outputs": []
    },
    {
      "cell_type": "code",
      "source": [
        "import sys\n",
        "\n",
        "# if it's Colab runtime, authenticate the user with Google Cloud\n",
        "if \"google.colab\" in sys.modules:\n",
        "    from google.colab import auth\n",
        "\n",
        "    auth.authenticate_user()"
      ],
      "metadata": {
        "id": "WuwlLYGsvxHA",
        "executionInfo": {
          "status": "ok",
          "timestamp": 1709374262510,
          "user_tz": -330,
          "elapsed": 203,
          "user": {
            "displayName": "",
            "userId": ""
          }
        }
      },
      "id": "WuwlLYGsvxHA",
      "execution_count": 3,
      "outputs": []
    },
    {
      "cell_type": "code",
      "source": [
        "# load the BQ Table into a Pandas Dataframe\n",
        "import pandas as pd\n",
        "from google.cloud import bigquery\n",
        "\n",
        "QUESTIONS_SIZE = 1000\n",
        "\n",
        "bq_client = bigquery.Client(project=PROJECT_ID)\n",
        "\n",
        "\n",
        "QUERY_TEMPLATE2=\"\"\"\n",
        "select a.quotation_No,a.room_type,a.service, b.duration from `final_dataset.project_schedule` as a\n",
        "        inner join `final_dataset.quotation_duration` as b\n",
        "        ON a.quotation_No = b.quotation and a.room_type = b.room\n",
        "        group by a.quotation_No,a.room_type,a.service,b.duration\n",
        "\"\"\"\n",
        "\n",
        "query2 = QUERY_TEMPLATE2.format(limit=QUESTIONS_SIZE)\n",
        "query_job2 = bq_client.query(query2)\n",
        "rows2 = query_job2.result()\n",
        "df2 = rows2.to_dataframe()\n",
        "\n",
        "QUERY_TEMPLATE = \"\"\" Select quotation_id as id,service_types from final_dataset.quotation_values\n",
        "        \"\"\"\n",
        "query = QUERY_TEMPLATE.format(limit=QUESTIONS_SIZE)\n",
        "query_job = bq_client.query(query)\n",
        "rows = query_job.result()\n",
        "df = rows.to_dataframe()\n",
        "\n",
        "# examine the data\n",
        "df.head()\n",
        "df2.head()"
      ],
      "metadata": {
        "id": "ZGXBcui_v3Lc",
        "colab": {
          "base_uri": "https://localhost:8080/",
          "height": 206
        },
        "executionInfo": {
          "status": "ok",
          "timestamp": 1709374304141,
          "user_tz": -330,
          "elapsed": 7176,
          "user": {
            "displayName": "",
            "userId": ""
          }
        },
        "outputId": "26cd4fd8-af16-4442-b69b-a9dfbfb7388a"
      },
      "id": "ZGXBcui_v3Lc",
      "execution_count": 5,
      "outputs": [
        {
          "output_type": "execute_result",
          "data": {
            "text/plain": [
              "  quotation_No       room_type    service  duration\n",
              "0        Q0008  Lobby/passages  Furniture        27\n",
              "1        Q0008     Living Room  Furniture        42\n",
              "2        Q0008       Kids Room  Furniture        40\n",
              "3        Q0008         Bedroom  Furniture        50\n",
              "4        Q0008      Pooja Room  Furniture        27"
            ],
            "text/html": [
              "\n",
              "  <div id=\"df-dfc2e233-7b16-4a78-917a-6fc721393d91\" class=\"colab-df-container\">\n",
              "    <div>\n",
              "<style scoped>\n",
              "    .dataframe tbody tr th:only-of-type {\n",
              "        vertical-align: middle;\n",
              "    }\n",
              "\n",
              "    .dataframe tbody tr th {\n",
              "        vertical-align: top;\n",
              "    }\n",
              "\n",
              "    .dataframe thead th {\n",
              "        text-align: right;\n",
              "    }\n",
              "</style>\n",
              "<table border=\"1\" class=\"dataframe\">\n",
              "  <thead>\n",
              "    <tr style=\"text-align: right;\">\n",
              "      <th></th>\n",
              "      <th>quotation_No</th>\n",
              "      <th>room_type</th>\n",
              "      <th>service</th>\n",
              "      <th>duration</th>\n",
              "    </tr>\n",
              "  </thead>\n",
              "  <tbody>\n",
              "    <tr>\n",
              "      <th>0</th>\n",
              "      <td>Q0008</td>\n",
              "      <td>Lobby/passages</td>\n",
              "      <td>Furniture</td>\n",
              "      <td>27</td>\n",
              "    </tr>\n",
              "    <tr>\n",
              "      <th>1</th>\n",
              "      <td>Q0008</td>\n",
              "      <td>Living Room</td>\n",
              "      <td>Furniture</td>\n",
              "      <td>42</td>\n",
              "    </tr>\n",
              "    <tr>\n",
              "      <th>2</th>\n",
              "      <td>Q0008</td>\n",
              "      <td>Kids Room</td>\n",
              "      <td>Furniture</td>\n",
              "      <td>40</td>\n",
              "    </tr>\n",
              "    <tr>\n",
              "      <th>3</th>\n",
              "      <td>Q0008</td>\n",
              "      <td>Bedroom</td>\n",
              "      <td>Furniture</td>\n",
              "      <td>50</td>\n",
              "    </tr>\n",
              "    <tr>\n",
              "      <th>4</th>\n",
              "      <td>Q0008</td>\n",
              "      <td>Pooja Room</td>\n",
              "      <td>Furniture</td>\n",
              "      <td>27</td>\n",
              "    </tr>\n",
              "  </tbody>\n",
              "</table>\n",
              "</div>\n",
              "    <div class=\"colab-df-buttons\">\n",
              "\n",
              "  <div class=\"colab-df-container\">\n",
              "    <button class=\"colab-df-convert\" onclick=\"convertToInteractive('df-dfc2e233-7b16-4a78-917a-6fc721393d91')\"\n",
              "            title=\"Convert this dataframe to an interactive table.\"\n",
              "            style=\"display:none;\">\n",
              "\n",
              "  <svg xmlns=\"http://www.w3.org/2000/svg\" height=\"24px\" viewBox=\"0 -960 960 960\">\n",
              "    <path d=\"M120-120v-720h720v720H120Zm60-500h600v-160H180v160Zm220 220h160v-160H400v160Zm0 220h160v-160H400v160ZM180-400h160v-160H180v160Zm440 0h160v-160H620v160ZM180-180h160v-160H180v160Zm440 0h160v-160H620v160Z\"/>\n",
              "  </svg>\n",
              "    </button>\n",
              "\n",
              "  <style>\n",
              "    .colab-df-container {\n",
              "      display:flex;\n",
              "      gap: 12px;\n",
              "    }\n",
              "\n",
              "    .colab-df-convert {\n",
              "      background-color: #E8F0FE;\n",
              "      border: none;\n",
              "      border-radius: 50%;\n",
              "      cursor: pointer;\n",
              "      display: none;\n",
              "      fill: #1967D2;\n",
              "      height: 32px;\n",
              "      padding: 0 0 0 0;\n",
              "      width: 32px;\n",
              "    }\n",
              "\n",
              "    .colab-df-convert:hover {\n",
              "      background-color: #E2EBFA;\n",
              "      box-shadow: 0px 1px 2px rgba(60, 64, 67, 0.3), 0px 1px 3px 1px rgba(60, 64, 67, 0.15);\n",
              "      fill: #174EA6;\n",
              "    }\n",
              "\n",
              "    .colab-df-buttons div {\n",
              "      margin-bottom: 4px;\n",
              "    }\n",
              "\n",
              "    [theme=dark] .colab-df-convert {\n",
              "      background-color: #3B4455;\n",
              "      fill: #D2E3FC;\n",
              "    }\n",
              "\n",
              "    [theme=dark] .colab-df-convert:hover {\n",
              "      background-color: #434B5C;\n",
              "      box-shadow: 0px 1px 3px 1px rgba(0, 0, 0, 0.15);\n",
              "      filter: drop-shadow(0px 1px 2px rgba(0, 0, 0, 0.3));\n",
              "      fill: #FFFFFF;\n",
              "    }\n",
              "  </style>\n",
              "\n",
              "    <script>\n",
              "      const buttonEl =\n",
              "        document.querySelector('#df-dfc2e233-7b16-4a78-917a-6fc721393d91 button.colab-df-convert');\n",
              "      buttonEl.style.display =\n",
              "        google.colab.kernel.accessAllowed ? 'block' : 'none';\n",
              "\n",
              "      async function convertToInteractive(key) {\n",
              "        const element = document.querySelector('#df-dfc2e233-7b16-4a78-917a-6fc721393d91');\n",
              "        const dataTable =\n",
              "          await google.colab.kernel.invokeFunction('convertToInteractive',\n",
              "                                                    [key], {});\n",
              "        if (!dataTable) return;\n",
              "\n",
              "        const docLinkHtml = 'Like what you see? Visit the ' +\n",
              "          '<a target=\"_blank\" href=https://colab.research.google.com/notebooks/data_table.ipynb>data table notebook</a>'\n",
              "          + ' to learn more about interactive tables.';\n",
              "        element.innerHTML = '';\n",
              "        dataTable['output_type'] = 'display_data';\n",
              "        await google.colab.output.renderOutput(dataTable, element);\n",
              "        const docLink = document.createElement('div');\n",
              "        docLink.innerHTML = docLinkHtml;\n",
              "        element.appendChild(docLink);\n",
              "      }\n",
              "    </script>\n",
              "  </div>\n",
              "\n",
              "\n",
              "<div id=\"df-da837574-eb0f-45d3-99d6-908e96782182\">\n",
              "  <button class=\"colab-df-quickchart\" onclick=\"quickchart('df-da837574-eb0f-45d3-99d6-908e96782182')\"\n",
              "            title=\"Suggest charts\"\n",
              "            style=\"display:none;\">\n",
              "\n",
              "<svg xmlns=\"http://www.w3.org/2000/svg\" height=\"24px\"viewBox=\"0 0 24 24\"\n",
              "     width=\"24px\">\n",
              "    <g>\n",
              "        <path d=\"M19 3H5c-1.1 0-2 .9-2 2v14c0 1.1.9 2 2 2h14c1.1 0 2-.9 2-2V5c0-1.1-.9-2-2-2zM9 17H7v-7h2v7zm4 0h-2V7h2v10zm4 0h-2v-4h2v4z\"/>\n",
              "    </g>\n",
              "</svg>\n",
              "  </button>\n",
              "\n",
              "<style>\n",
              "  .colab-df-quickchart {\n",
              "      --bg-color: #E8F0FE;\n",
              "      --fill-color: #1967D2;\n",
              "      --hover-bg-color: #E2EBFA;\n",
              "      --hover-fill-color: #174EA6;\n",
              "      --disabled-fill-color: #AAA;\n",
              "      --disabled-bg-color: #DDD;\n",
              "  }\n",
              "\n",
              "  [theme=dark] .colab-df-quickchart {\n",
              "      --bg-color: #3B4455;\n",
              "      --fill-color: #D2E3FC;\n",
              "      --hover-bg-color: #434B5C;\n",
              "      --hover-fill-color: #FFFFFF;\n",
              "      --disabled-bg-color: #3B4455;\n",
              "      --disabled-fill-color: #666;\n",
              "  }\n",
              "\n",
              "  .colab-df-quickchart {\n",
              "    background-color: var(--bg-color);\n",
              "    border: none;\n",
              "    border-radius: 50%;\n",
              "    cursor: pointer;\n",
              "    display: none;\n",
              "    fill: var(--fill-color);\n",
              "    height: 32px;\n",
              "    padding: 0;\n",
              "    width: 32px;\n",
              "  }\n",
              "\n",
              "  .colab-df-quickchart:hover {\n",
              "    background-color: var(--hover-bg-color);\n",
              "    box-shadow: 0 1px 2px rgba(60, 64, 67, 0.3), 0 1px 3px 1px rgba(60, 64, 67, 0.15);\n",
              "    fill: var(--button-hover-fill-color);\n",
              "  }\n",
              "\n",
              "  .colab-df-quickchart-complete:disabled,\n",
              "  .colab-df-quickchart-complete:disabled:hover {\n",
              "    background-color: var(--disabled-bg-color);\n",
              "    fill: var(--disabled-fill-color);\n",
              "    box-shadow: none;\n",
              "  }\n",
              "\n",
              "  .colab-df-spinner {\n",
              "    border: 2px solid var(--fill-color);\n",
              "    border-color: transparent;\n",
              "    border-bottom-color: var(--fill-color);\n",
              "    animation:\n",
              "      spin 1s steps(1) infinite;\n",
              "  }\n",
              "\n",
              "  @keyframes spin {\n",
              "    0% {\n",
              "      border-color: transparent;\n",
              "      border-bottom-color: var(--fill-color);\n",
              "      border-left-color: var(--fill-color);\n",
              "    }\n",
              "    20% {\n",
              "      border-color: transparent;\n",
              "      border-left-color: var(--fill-color);\n",
              "      border-top-color: var(--fill-color);\n",
              "    }\n",
              "    30% {\n",
              "      border-color: transparent;\n",
              "      border-left-color: var(--fill-color);\n",
              "      border-top-color: var(--fill-color);\n",
              "      border-right-color: var(--fill-color);\n",
              "    }\n",
              "    40% {\n",
              "      border-color: transparent;\n",
              "      border-right-color: var(--fill-color);\n",
              "      border-top-color: var(--fill-color);\n",
              "    }\n",
              "    60% {\n",
              "      border-color: transparent;\n",
              "      border-right-color: var(--fill-color);\n",
              "    }\n",
              "    80% {\n",
              "      border-color: transparent;\n",
              "      border-right-color: var(--fill-color);\n",
              "      border-bottom-color: var(--fill-color);\n",
              "    }\n",
              "    90% {\n",
              "      border-color: transparent;\n",
              "      border-bottom-color: var(--fill-color);\n",
              "    }\n",
              "  }\n",
              "</style>\n",
              "\n",
              "  <script>\n",
              "    async function quickchart(key) {\n",
              "      const quickchartButtonEl =\n",
              "        document.querySelector('#' + key + ' button');\n",
              "      quickchartButtonEl.disabled = true;  // To prevent multiple clicks.\n",
              "      quickchartButtonEl.classList.add('colab-df-spinner');\n",
              "      try {\n",
              "        const charts = await google.colab.kernel.invokeFunction(\n",
              "            'suggestCharts', [key], {});\n",
              "      } catch (error) {\n",
              "        console.error('Error during call to suggestCharts:', error);\n",
              "      }\n",
              "      quickchartButtonEl.classList.remove('colab-df-spinner');\n",
              "      quickchartButtonEl.classList.add('colab-df-quickchart-complete');\n",
              "    }\n",
              "    (() => {\n",
              "      let quickchartButtonEl =\n",
              "        document.querySelector('#df-da837574-eb0f-45d3-99d6-908e96782182 button');\n",
              "      quickchartButtonEl.style.display =\n",
              "        google.colab.kernel.accessAllowed ? 'block' : 'none';\n",
              "    })();\n",
              "  </script>\n",
              "</div>\n",
              "    </div>\n",
              "  </div>\n"
            ]
          },
          "metadata": {},
          "execution_count": 5
        }
      ]
    },
    {
      "cell_type": "code",
      "source": [
        "# init the vertexai package\n",
        "import vertexai\n",
        "\n",
        "vertexai.init(project=PROJECT_ID, location=LOCATION)"
      ],
      "metadata": {
        "id": "lypawpjGv8qA",
        "executionInfo": {
          "status": "ok",
          "timestamp": 1709374317140,
          "user_tz": -330,
          "elapsed": 8839,
          "user": {
            "displayName": "",
            "userId": ""
          }
        }
      },
      "id": "lypawpjGv8qA",
      "execution_count": 6,
      "outputs": []
    },
    {
      "cell_type": "code",
      "source": [
        "# init the aiplatform package\n",
        "from google.cloud import aiplatform\n",
        "\n",
        "aiplatform.init(project=PROJECT_ID, location=LOCATION)\n",
        "\n"
      ],
      "metadata": {
        "id": "ZM6tWGMqwGH0"
      },
      "id": "ZM6tWGMqwGH0",
      "execution_count": null,
      "outputs": []
    },
    {
      "cell_type": "code",
      "source": [
        "# Load the text embeddings model\n",
        "from vertexai.preview.language_models import TextEmbeddingModel\n",
        "\n",
        "model = TextEmbeddingModel.from_pretrained(\"textembedding-gecko@001\")"
      ],
      "metadata": {
        "id": "isqqMJbrwhf3",
        "executionInfo": {
          "status": "ok",
          "timestamp": 1709374341136,
          "user_tz": -330,
          "elapsed": 1621,
          "user": {
            "displayName": "",
            "userId": ""
          }
        }
      },
      "id": "isqqMJbrwhf3",
      "execution_count": 8,
      "outputs": []
    },
    {
      "cell_type": "code",
      "source": [
        "import time\n",
        "import tqdm  # to show a progress bar\n",
        "\n",
        "# get embeddings for a list of texts\n",
        "BATCH_SIZE = 5\n",
        "\n",
        "\n",
        "def get_embeddings_wrapper(texts):\n",
        "    embs = []\n",
        "    for i in tqdm.tqdm(range(0, len(texts), BATCH_SIZE)):\n",
        "        time.sleep(1)  # to avoid the quota error\n",
        "        result = model.get_embeddings(texts[i : i + BATCH_SIZE])\n",
        "        embs = embs + [e.values for e in result]\n",
        "    return embs"
      ],
      "metadata": {
        "id": "QKWket1xwto5",
        "executionInfo": {
          "status": "ok",
          "timestamp": 1709374349350,
          "user_tz": -330,
          "elapsed": 199,
          "user": {
            "displayName": "",
            "userId": ""
          }
        }
      },
      "id": "QKWket1xwto5",
      "execution_count": 9,
      "outputs": []
    },
    {
      "cell_type": "code",
      "source": [
        "test_embeddings = get_embeddings_wrapper([\"Describe a project schedule for work in pooja room, bed room and living room\"])"
      ],
      "metadata": {
        "id": "2ukjGdCgw_3g",
        "colab": {
          "base_uri": "https://localhost:8080/"
        },
        "executionInfo": {
          "status": "ok",
          "timestamp": 1709380931427,
          "user_tz": -330,
          "elapsed": 2806,
          "user": {
            "displayName": "",
            "userId": ""
          }
        },
        "outputId": "a2762564-7691-4133-fbc2-c79ca4fef9bd"
      },
      "id": "2ukjGdCgw_3g",
      "execution_count": 18,
      "outputs": [
        {
          "output_type": "stream",
          "name": "stderr",
          "text": [
            "100%|██████████| 1/1 [00:02<00:00,  2.42s/it]\n"
          ]
        }
      ]
    },
    {
      "cell_type": "code",
      "source": [
        "my_index_endpoint = aiplatform.MatchingEngineIndexEndpoint(\"98203980546441216\")"
      ],
      "metadata": {
        "id": "DzZPBnG6xGd5",
        "executionInfo": {
          "status": "ok",
          "timestamp": 1709374368552,
          "user_tz": -330,
          "elapsed": 1600,
          "user": {
            "displayName": "",
            "userId": ""
          }
        }
      },
      "id": "DzZPBnG6xGd5",
      "execution_count": 10,
      "outputs": []
    },
    {
      "cell_type": "code",
      "source": [
        "DEPLOYED_INDEX_ID = \"project_schedule_final_03020808\""
      ],
      "metadata": {
        "id": "ruaHPpGC2lkW",
        "executionInfo": {
          "status": "ok",
          "timestamp": 1709374579273,
          "user_tz": -330,
          "elapsed": 187,
          "user": {
            "displayName": "",
            "userId": ""
          }
        }
      },
      "id": "ruaHPpGC2lkW",
      "execution_count": 14,
      "outputs": []
    },
    {
      "cell_type": "code",
      "source": [
        "# Test query\n",
        "response = my_index_endpoint.find_neighbors(\n",
        "    deployed_index_id=DEPLOYED_INDEX_ID,\n",
        "    queries=test_embeddings,\n",
        "    num_neighbors=5,\n",
        ")\n",
        "print(response)\n",
        "# show the result\n",
        "import numpy as np\n",
        "\n",
        "id_arr=[]\n",
        "\n",
        "for idx, neighbor in enumerate(response[0]):\n",
        "    id = np.str_(neighbor.id)\n",
        "    similar = df.query(\"id == @id\", engine=\"python\")\n",
        "    id_arr.append(id)\n",
        "    print(f\"{similar.id.values[0]} {similar.service_types.values[0]}\");\n",
        "print('-------------------------- ')\n",
        "for id in id_arr:\n",
        "  similar = df2.query('quotation_No == \"%s\"' %id, engine=\"python\")\n",
        "  for i in range(0,len(similar)):\n",
        "    print(f\"{similar.quotation_No.values[i]} {similar.service.values[i]} {similar.room_type.values[i]} {similar.duration.values[i]}\")\n",
        "  # print(f\"{similar.quotation_No.values[0]} {similar.service.values[0]} {similar.room_type.values[0]} {similar.duration.values[0]}\")"
      ],
      "metadata": {
        "id": "OvuND6ey2-SF",
        "colab": {
          "base_uri": "https://localhost:8080/"
        },
        "executionInfo": {
          "status": "ok",
          "timestamp": 1709380974892,
          "user_tz": -330,
          "elapsed": 539,
          "user": {
            "displayName": "",
            "userId": ""
          }
        },
        "outputId": "ec471e33-b3d6-41be-866f-03d1ae3d0bc6"
      },
      "id": "OvuND6ey2-SF",
      "execution_count": 20,
      "outputs": [
        {
          "output_type": "stream",
          "name": "stdout",
          "text": [
            "[[MatchNeighbor(id='Q0012', distance=0.7434127926826477, feature_vector=[], crowding_tag='0', restricts=[], numeric_restricts=[]), MatchNeighbor(id='Q0020', distance=0.7402687072753906, feature_vector=[], crowding_tag='0', restricts=[], numeric_restricts=[]), MatchNeighbor(id='Q0036', distance=0.7349977493286133, feature_vector=[], crowding_tag='0', restricts=[], numeric_restricts=[]), MatchNeighbor(id='Q0002', distance=0.7304138541221619, feature_vector=[], crowding_tag='0', restricts=[], numeric_restricts=[]), MatchNeighbor(id='Q0028', distance=0.7304138541221619, feature_vector=[], crowding_tag='0', restricts=[], numeric_restricts=[])]]\n",
            "Q0012 Bedroom, Kitchen, Living Room, Lobby/passages, Pooja Room\n",
            "Q0020 Bedroom, Living Room, Lobby/passages, Pooja Room, Study Room\n",
            "Q0036 Bedroom, Entertainment Room, Kitchen, Living Room, Lobby/passages, Pooja Room\n",
            "Q0002 Bedroom, Kitchen, Living Room, Lobby/passages, Pooja Room, Washroom\n",
            "Q0028 Bedroom, Kitchen, Living Room, Lobby/passages, Pooja Room, Washroom\n",
            "-------------------------- \n",
            "Q0012 Furniture Living Room 37\n",
            "Q0012 Furniture Bedroom 40\n",
            "Q0012 Furniture Lobby/passages 30\n",
            "Q0012 Furniture Pooja Room 27\n",
            "Q0012 Furniture Kitchen 25\n",
            "Q0012 Civil Kitchen 25\n",
            "Q0012 Demolition Kitchen 25\n",
            "Q0012 General Kitchen 25\n",
            "Q0020 Miscellaneous Lobby/passages 30\n",
            "Q0020 Paints Lobby/passages 30\n",
            "Q0020 Miscellaneous Living Room 37\n",
            "Q0020 Miscellaneous Study Room 20\n",
            "Q0020 Miscellaneous Bedroom 40\n",
            "Q0020 Miscellaneous Pooja Room 27\n",
            "Q0020 Modular Kitchen Lobby/passages 30\n",
            "Q0020 Electrical Lobby/passages 30\n",
            "Q0020 Modular Kitchen Living Room 37\n",
            "Q0036 Civil Living Room 37\n",
            "Q0036 Furniture Living Room 37\n",
            "Q0036 Furniture Kitchen 25\n",
            "Q0036 Furniture Bedroom 40\n",
            "Q0036 Furniture Entertainment Room 35\n",
            "Q0036 Doors and Windows Entertainment Room 35\n",
            "Q0036 Furnishing Entertainment Room 35\n",
            "Q0036 Furniture Lobby/passages 30\n",
            "Q0036 Electrical Pooja Room 27\n",
            "Q0036 Furnishing Pooja Room 27\n",
            "Q0036 Modular Kitchen Kitchen 25\n",
            "Q0036 Civil Kitchen 25\n",
            "Q0036 Civil Entertainment Room 35\n",
            "Q0036 Doors and Windows Bedroom 40\n",
            "Q0036 Miscellaneous Pooja Room 27\n",
            "Q0002 Furniture Living Room 75\n",
            "Q0002 Furniture Kitchen 40\n",
            "Q0002 Furniture Pooja Room 30\n",
            "Q0002 Furniture Bedroom 75\n",
            "Q0002 Furniture Washroom 15\n",
            "Q0002 Furniture Lobby/passages 18\n",
            "Q0028 Furniture Living Room 37\n",
            "Q0028 Furniture Pooja Room 27\n",
            "Q0028 Furniture Lobby/passages 30\n",
            "Q0028 Wooden Ceiling Lobby/passages 30\n",
            "Q0028 Furniture Bedroom 40\n",
            "Q0028 Wooden Ceiling Bedroom 40\n",
            "Q0028 Furniture Washroom 15\n",
            "Q0028 Modular Kitchen Kitchen 25\n"
          ]
        }
      ]
    },
    {
      "cell_type": "code",
      "source": [
        "import sys\n",
        "\n",
        "# if it's Colab runtime, authenticate the user with Google Cloud\n",
        "if \"google.colab\" in sys.modules:\n",
        "    from google.colab import auth\n",
        "\n",
        "    auth.authenticate_user()\n",
        "\n",
        "import pandas as pd\n",
        "from vertexai.language_models import TextGenerationModel\n",
        "\n",
        "generation_model = TextGenerationModel.from_pretrained(\"text-bison@001\")"
      ],
      "metadata": {
        "id": "JpdcBJX8Ct0H"
      },
      "id": "JpdcBJX8Ct0H",
      "execution_count": null,
      "outputs": []
    },
    {
      "cell_type": "code",
      "source": [
        "context = \"\"\"\n",
        "You are a Project Scheduling Manager and you have to provide a schedule of completing the provided details.\n",
        "You will be provided Service Type, Tier, Room Type and location which is defined by latitudes and longitudes.\n",
        "Service Type can be of any type which is listed below wooden flooring , furniture, bathroom , wooden ceiling\n",
        ",civil, electrical, Doors and Windows , Miscellanious , Demoilition , Paints, PEST, Fitted Furniture ,\n",
        "Modular Kitchen, General .\n",
        "Site can belong to Tier 1, Tier 2 , Tier 3.\n",
        "A Tier 1 site is larger in size and has more number of rooms.\n",
        "A Tier 2 site is medium in size and has medium number of rooms.\n",
        "A Tier 3 site is small in size and has less number of rooms.\n",
        "and Room Type can be of Kids Room , Entertainment Room , Washroom , Terrace , Pooja Room,\n",
        "Kitchen , Lawn , Porch, Study room , Bedroom, Looby/Passage , Other Room.\n",
        "\n",
        "The input text will be in sequece of Room Type, list of services required the room type and duration.\n",
        "Sample Output text will be:\n",
        "Type: Pooja Room\n",
        "SubTask: Furniture Delivery\n",
        "Duration: 5 days\n",
        "\n",
        "Type: Pooja Room\n",
        "SubTask: furniture Installation\n",
        "Duration: 5 days\n",
        "\n",
        "\"\"\"\n",
        "\n",
        "question= f\"Create a project Schedule for a site belonging to location {similar.Location.values[0]} {similar.Tier.values[0]} {similar.Room_Type.values[0]}  {similar.Service.values[0]},  {similar.duration.values[0]} days\"\n",
        "prompt = f\"\"\"Answer the question given the context below as {{Context:}}. \\n\n",
        "If the answer is not available in the {{Context:}} and you are not confident about the output,\n",
        "please say \"Information not available in provided context\". \\n\\n\n",
        "Context: {context}?\\n\n",
        "Question: {question} \\n\n",
        "Answer:\n",
        "\"\"\"\n",
        "\n",
        "# print(\"[Prompt]\")\n",
        "# print(prompt)\n",
        "\n",
        "print(\"[Response]\")\n",
        "print(\n",
        "     generation_model.predict(\n",
        "        prompt,\n",
        "    ).text\n",
        ")"
      ],
      "metadata": {
        "id": "MDj78u9lDHnb",
        "colab": {
          "base_uri": "https://localhost:8080/"
        },
        "executionInfo": {
          "status": "ok",
          "timestamp": 1709228736932,
          "user_tz": -330,
          "elapsed": 2423,
          "user": {
            "displayName": "",
            "userId": ""
          }
        },
        "outputId": "0fe4cb1c-8b1b-425d-f340-33094c305710"
      },
      "id": "MDj78u9lDHnb",
      "execution_count": null,
      "outputs": [
        {
          "output_type": "stream",
          "name": "stdout",
          "text": [
            "[Response]\n",
            "Type: Pooja Room\n",
            "SubTask: Furniture Delivery\n",
            "Duration: 5 days\n",
            "\n",
            "Type: Pooja Room\n",
            "SubTask: furniture Installation\n",
            "Duration: 5 days\n",
            "\n",
            "Type: Pooja Room\n",
            "SubTask: Furniture Assembly\n",
            "Duration: 5 days\n",
            "\n",
            "Type: Pooja Room\n",
            "SubTask: Furniture Final Inspection\n",
            "Duration: 2 days\n"
          ]
        }
      ]
    },
    {
      "cell_type": "code",
      "source": [],
      "metadata": {
        "id": "cwZQpSRhtuy3"
      },
      "id": "cwZQpSRhtuy3",
      "execution_count": null,
      "outputs": []
    }
  ],
  "metadata": {
    "kernelspec": {
      "display_name": "Python 3",
      "language": "python",
      "name": "python3"
    },
    "language_info": {
      "codemirror_mode": {
        "name": "ipython",
        "version": 3
      },
      "file_extension": ".py",
      "mimetype": "text/x-python",
      "name": "python",
      "nbconvert_exporter": "python",
      "pygments_lexer": "ipython3",
      "version": "3.10.10"
    },
    "colab": {
      "provenance": []
    }
  },
  "nbformat": 4,
  "nbformat_minor": 5
}